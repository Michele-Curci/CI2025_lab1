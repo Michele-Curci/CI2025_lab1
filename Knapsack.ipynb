{
 "cells": [
  {
   "cell_type": "code",
   "execution_count": 20,
   "id": "630315d7",
   "metadata": {},
   "outputs": [],
   "source": [
    "import numpy as np\n",
    "import matplotlib.pyplot as plt\n",
    "rng = np.random.default_rng(seed=42)"
   ]
  },
  {
   "cell_type": "code",
   "execution_count": 14,
   "id": "2293428b",
   "metadata": {},
   "outputs": [],
   "source": [
    "def problem1():\n",
    "    # Problem 1:\n",
    "    NUM_KNAPSACKS = 3\n",
    "    NUM_ITEMS = 20\n",
    "    NUM_DIMENSIONS = 2\n",
    "    VALUES = rng.integers(0, 100, size=NUM_ITEMS)\n",
    "    WEIGHTS = rng.integers(0, 100, size=(NUM_ITEMS, NUM_DIMENSIONS))\n",
    "    CONSTRAINTS = rng.integers(\n",
    "        0, 100 * NUM_ITEMS // NUM_KNAPSACKS, size=(NUM_KNAPSACKS, NUM_DIMENSIONS)\n",
    "    )\n",
    "    \n",
    "    return NUM_KNAPSACKS, NUM_ITEMS, NUM_DIMENSIONS, VALUES, WEIGHTS, CONSTRAINTS"
   ]
  },
  {
   "cell_type": "code",
   "execution_count": 15,
   "id": "c8e71180",
   "metadata": {},
   "outputs": [],
   "source": [
    "def problem2():\n",
    "    # Problem 2:\n",
    "    NUM_KNAPSACKS = 10\n",
    "    NUM_ITEMS = 100\n",
    "    NUM_DIMENSIONS = 10\n",
    "    VALUES = rng.integers(0, 1000, size=NUM_ITEMS)\n",
    "    WEIGHTS = rng.integers(0, 1000, size=(NUM_ITEMS, NUM_DIMENSIONS))\n",
    "    CONSTRAINTS = rng.integers(\n",
    "        1000 * 2, 1000 * NUM_ITEMS // NUM_KNAPSACKS, size=(NUM_KNAPSACKS, NUM_DIMENSIONS)\n",
    "    )\n",
    "    \n",
    "    return NUM_KNAPSACKS, NUM_ITEMS, NUM_DIMENSIONS, VALUES, WEIGHTS, CONSTRAINTS"
   ]
  },
  {
   "cell_type": "code",
   "execution_count": 17,
   "id": "a046ec19",
   "metadata": {},
   "outputs": [],
   "source": [
    "def problem3():\n",
    "    # Problem 3:\n",
    "    NUM_KNAPSACKS = 100\n",
    "    NUM_ITEMS = 5000\n",
    "    NUM_DIMENSIONS = 100\n",
    "    VALUES = rng.integers(0, 1000, size=NUM_ITEMS)\n",
    "    WEIGHTS = rng.integers(0, 1000, size=(NUM_ITEMS, NUM_DIMENSIONS))\n",
    "    CONSTRAINTS = rng.integers(\n",
    "        1000 * 10, 1000 * 2 * NUM_ITEMS // NUM_KNAPSACKS, size=(NUM_KNAPSACKS, NUM_DIMENSIONS)\n",
    "    )\n",
    "    \n",
    "    return NUM_KNAPSACKS, NUM_ITEMS, NUM_DIMENSIONS, VALUES, WEIGHTS, CONSTRAINTS"
   ]
  },
  {
   "cell_type": "code",
   "execution_count": 19,
   "id": "bfa3e2e7",
   "metadata": {},
   "outputs": [],
   "source": [
    "def check_constraints(solution, WEIGHTS, CONSTRAINTS):\n",
    "    \"\"\"\n",
    "    Check if a given solution satisfies all knapsack constraints\n",
    "\n",
    "    Parameters:\n",
    "    solution: Array of shape (NUM_ITEMS,), each element is -1 (not used) or knapsack index [0..NUM_KNAPSACKS-1]\n",
    "    WEIGHTS: Array of shape (NUM_ITEMS, NUM_DIMENSIONS) containing the weights of each item per dimension\n",
    "    CONSTRAINTS: Array of shape (NUM_KNAPSACKS, NUM_DIMENSIONS) with the max capacity of each knapsack per dimension\n",
    "\n",
    "    Returns:\n",
    "    valid: True if all constraints are satisfied, False otherwise\n",
    "    used_capacity: Matrix (NUM_KNAPSACKS, NUM_DIMENSIONS) showing total used capacity per knapsack\n",
    "    \"\"\"\n",
    "\n",
    "    num_knapsacks, num_dims = CONSTRAINTS.shape\n",
    "\n",
    "    used_capacity = np.zeros((num_knapsacks, num_dims))\n",
    "\n",
    "    for i,k in enumerate(solution):\n",
    "        if k==-1:\n",
    "            continue\n",
    "        used_capacity[k] += WEIGHTS[i]\n",
    "\n",
    "    valid = np.all(used_capacity <= CONSTRAINTS)\n",
    "\n",
    "    return valid, used_capacity"
   ]
  },
  {
   "cell_type": "code",
   "execution_count": null,
   "id": "39cbf20b",
   "metadata": {},
   "outputs": [],
   "source": [
    "def genetic_algorithm():"
   ]
  },
  {
   "cell_type": "code",
   "execution_count": null,
   "id": "9893c77a",
   "metadata": {},
   "outputs": [],
   "source": [
    "def simulated_annealing():"
   ]
  },
  {
   "cell_type": "code",
   "execution_count": 26,
   "id": "9bfdc30b",
   "metadata": {},
   "outputs": [],
   "source": [
    "def fitness(solution, VALUES, WEIGHTS, CONSTRAINTS, penalty_factor=10):\n",
    "    valid, used_capacity = check_constraints(solution, WEIGHTS, CONSTRAINTS)\n",
    "    total_value = np.sum([VALUES[i] for i,k in enumerate(solution) if k!=-1])\n",
    "    if valid: \n",
    "        return total_value\n",
    "    else:\n",
    "        overload = np.maximum(used_capacity - CONSTRAINTS, 0)\n",
    "        penalty = penalty_factor * np.sum(overload)\n",
    "        return total_value - penalty\n",
    "    \n",
    "def heuristic(solution_matrix, VALUES, WEIGHTS, CONSTRAINTS):\n",
    "    num_knapsacks = CONSTRAINTS.shape[0]\n",
    "    num_items = VALUES.shape[0]\n",
    "    eta = np.zeros((num_items, num_knapsacks + 1))\n",
    "    for i in range(num_items):\n",
    "        for k in range(num_knapsacks):\n",
    "            weight_ratio = np.sum(WEIGHTS[i]/CONSTRAINTS[k])\n",
    "            eta[i, k] = VALUES[i] / (weight_ratio + 1e-6)\n",
    "        eta[i, num_knapsacks] = 1\n",
    "    return eta\n",
    "\n",
    "def ant_colony(NUM_ITEMS, NUM_KNAPSACKS, VALUES, WEIGHTS, CONSTRAINTS, NUM_ANTS=50, NUM_GENERATIONS=100, alpha=1, beta=2, evaporation_rate=0.1, penalty_factor=10):\n",
    "    pheromone = np.ones((NUM_ITEMS, NUM_KNAPSACKS+1))\n",
    "    eta = heuristic(pheromone, VALUES, WEIGHTS, CONSTRAINTS)\n",
    "\n",
    "    best_solution = None\n",
    "    best_fitness = -np.inf\n",
    "    fitness_history = []\n",
    "\n",
    "    for gen in range(NUM_GENERATIONS):\n",
    "        ant_solutions = []\n",
    "        ant_fitness = []\n",
    "\n",
    "        for ant in range(NUM_ANTS):\n",
    "            solution = []\n",
    "            for i in range(NUM_ITEMS):\n",
    "                probs = np.zeros(NUM_KNAPSACKS+1)\n",
    "                for k in range(NUM_KNAPSACKS+1):\n",
    "                    probs[k] = (pheromone[i, k]**alpha)*(eta[i, k]**beta)\n",
    "                probs = np.maximum(probs, 1e-6)\n",
    "                probs /= probs.sum()\n",
    "                chosen_k = np.random.choice(NUM_KNAPSACKS+1, p=probs)\n",
    "                solution.append(chosen_k if chosen_k != NUM_KNAPSACKS else -1)\n",
    "            ant_solutions.append(solution)\n",
    "            f = fitness(solution, VALUES, WEIGHTS, CONSTRAINTS, penalty_factor)\n",
    "            ant_fitness.append(f)\n",
    "\n",
    "            if f > best_fitness:\n",
    "                best_fitness = f\n",
    "                best_solution = solution.copy()\n",
    "\n",
    "        pheromone *= (1 - evaporation_rate)\n",
    "        for sol, f in zip(ant_solutions, ant_fitness):\n",
    "            for i, k in enumerate(sol):\n",
    "                index = k if k != -1 else NUM_KNAPSACKS\n",
    "                pheromone[i, index] += f/1000.0\n",
    "\n",
    "        fitness_history.append(best_fitness)\n",
    "\n",
    "        if gen % 10 == 0 or gen == NUM_GENERATIONS-1:\n",
    "            print(f\"Generation {gen+1}, best fitness: {best_fitness}\")\n",
    "\n",
    "    plt.figure(figsize=(10,5))\n",
    "    plt.plot(fitness_history, marker='o', linestyle='-')\n",
    "    plt.title(\"ACO: Best Fitness Over Generations\")\n",
    "    plt.xlabel(\"Generation\")\n",
    "    plt.ylabel(\"Best Fitness\")\n",
    "    plt.grid(True)\n",
    "    plt.show()\n",
    "\n",
    "    return best_solution, best_fitness"
   ]
  },
  {
   "cell_type": "code",
   "execution_count": 38,
   "id": "5cf1103f",
   "metadata": {},
   "outputs": [
    {
     "name": "stdout",
     "output_type": "stream",
     "text": [
      "Generation 1, best fitness: -4674.0\n",
      "Generation 11, best fitness: 268.0\n",
      "Generation 21, best fitness: 268.0\n",
      "Generation 31, best fitness: 268.0\n",
      "Generation 41, best fitness: 268.0\n",
      "Generation 50, best fitness: 388.0\n"
     ]
    },
    {
     "data": {
      "image/png": "[encoded data removed]",
      "text/plain": [
       "<Figure size 1000x500 with 1 Axes>"
      ]
     },
     "metadata": {},
     "output_type": "display_data"
    },
    {
     "name": "stdout",
     "output_type": "stream",
     "text": [
      "\n",
      "Best solution: [0, 2, 0, 1, -1, 0, 1, -1, 2, -1, -1, 2, -1, 2, -1, 2, -1, 2, -1, -1]\n",
      "Valid: False\n",
      "Used capacity:\n",
      " [[108. 139.]\n",
      " [126.  30.]\n",
      " [349. 197.]]\n",
      "Total value: 638\n"
     ]
    }
   ],
   "source": [
    "NUM_KNAPSACKS, NUM_ITEMS, NUM_DIMENSIONS, VALUES, WEIGHTS, CONSTRAINTS = problem1()\n",
    "\n",
    "best_solution, best_fitness = ant_colony(NUM_ITEMS, NUM_KNAPSACKS, VALUES, WEIGHTS, CONSTRAINTS, NUM_ANTS=30, NUM_GENERATIONS=50)\n",
    "\n",
    "print(\"\\nBest solution:\", best_solution)\n",
    "valid, used_capacity = check_constraints(best_solution, WEIGHTS, CONSTRAINTS)\n",
    "print(\"Valid:\", valid)\n",
    "print(\"Used capacity:\\n\", used_capacity)\n",
    "print(\"Total value:\", np.sum([VALUES[i] for i, k in enumerate(best_solution) if k != -1]))"
   ]
  }
 ],
 "metadata": {
  "kernelspec": {
   "display_name": ".venv",
   "language": "python",
   "name": "python3"
  },
  "language_info": {
   "codemirror_mode": {
    "name": "ipython",
    "version": 3
   },
   "file_extension": ".py",
   "mimetype": "text/x-python",
   "name": "python",
   "nbconvert_exporter": "python",
   "pygments_lexer": "ipython3",
   "version": "3.12.10"
  }
 },
 "nbformat": 4,
 "nbformat_minor": 5
}
